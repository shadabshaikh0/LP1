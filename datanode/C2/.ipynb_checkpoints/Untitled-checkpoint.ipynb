{
 "cells": [
  {
   "cell_type": "code",
   "execution_count": 9,
   "metadata": {},
   "outputs": [],
   "source": [
    "import pandas as pd\n",
    "import numpy as np\n",
    "from sklearn.model_selection import train_test_split\n",
    "from sklearn.metrics import confusion_matrix"
   ]
  },
  {
   "cell_type": "code",
   "execution_count": 10,
   "metadata": {},
   "outputs": [],
   "source": [
    "data = pd.read_csv( 'Pima.csv' )"
   ]
  },
  {
   "cell_type": "code",
   "execution_count": null,
   "metadata": {},
   "outputs": [],
   "source": []
  },
  {
   "cell_type": "code",
   "execution_count": 15,
   "metadata": {},
   "outputs": [],
   "source": [
    "y = data[\"class\"]"
   ]
  },
  {
   "cell_type": "code",
   "execution_count": 16,
   "metadata": {},
   "outputs": [],
   "source": [
    "x = data.drop( [\"class\"],axis=1 )"
   ]
  },
  {
   "cell_type": "code",
   "execution_count": 19,
   "metadata": {},
   "outputs": [],
   "source": [
    "train_x,test_x,train_y,test_y = train_test_split( x,y,test_size = 0.3 ) "
   ]
  },
  {
   "cell_type": "code",
   "execution_count": 21,
   "metadata": {},
   "outputs": [],
   "source": [
    "train_mean_pos  = train_x[ train_y == 1 ].mean()\n",
    "train_std_pos  = train_x[ train_y == 1 ].std()\n",
    "train_mean_neg  = train_x[ train_y == 0 ].mean()\n",
    "train_std_neg = train_x[ train_y == 0 ].std()"
   ]
  },
  {
   "cell_type": "code",
   "execution_count": 31,
   "metadata": {},
   "outputs": [],
   "source": [
    "summary = {\n",
    "    \"train_mean_pos\": train_mean_pos.tolist(),\n",
    "    \"train_std_pos\": train_std_pos.tolist(),\n",
    "    \"train_mean_neg\": train_mean_neg.tolist(),\n",
    "    \"train_std_neg\": train_std_neg.tolist()\n",
    "}"
   ]
  },
  {
   "cell_type": "code",
   "execution_count": 29,
   "metadata": {},
   "outputs": [
    {
     "data": {
      "text/plain": [
       "{'train_mean_pos': [4.7434554973821985,\n",
       "  141.38743455497382,\n",
       "  71.17277486910994,\n",
       "  21.89005235602094,\n",
       "  93.80104712041884,\n",
       "  35.128795811518316,\n",
       "  0.5322094240837703,\n",
       "  37.29319371727749],\n",
       " 'train_std_pos': [3.611698331643793,\n",
       "  33.10885792137107,\n",
       "  20.861611487095693,\n",
       "  17.790992857042852,\n",
       "  133.34751669762775,\n",
       "  6.5803341872569305,\n",
       "  0.36871926007848366,\n",
       "  11.106086797653482],\n",
       " 'train_mean_neg': [3.4364161849710984,\n",
       "  110.54913294797687,\n",
       "  68.85549132947978,\n",
       "  19.309248554913296,\n",
       "  66.88728323699422,\n",
       "  30.331502890173443,\n",
       "  0.4370895953757224,\n",
       "  31.216763005780347],\n",
       " 'train_std_neg': [3.0125828660534375,\n",
       "  26.925859815097343,\n",
       "  16.97472755466187,\n",
       "  15.006849682885079,\n",
       "  101.78395141352787,\n",
       "  7.283797110262604,\n",
       "  0.31588271636815723,\n",
       "  11.840331807748633]}"
      ]
     },
     "execution_count": 29,
     "metadata": {},
     "output_type": "execute_result"
    }
   ],
   "source": [
    "summary"
   ]
  },
  {
   "cell_type": "code",
   "execution_count": 44,
   "metadata": {},
   "outputs": [],
   "source": [
    "def cond_prob( x,mn,std):\n",
    "    varnc = std*std\n",
    "    p = 1/(np.sqrt(2*np.pi*varnc)) *  np.exp( (-( x-mn )**2) ) / ( 2*varnc )\n",
    "    return p"
   ]
  },
  {
   "cell_type": "code",
   "execution_count": 45,
   "metadata": {},
   "outputs": [],
   "source": [
    "def predict(row,summary):\n",
    "    prob_positive = len( summary[\"train_mean_pos\"] ) / ( len( summary[\"train_mean_pos\"] )+ len( summary[\"train_mean_neg\"]) )\n",
    "    for i in range( 0,len(row) ):\n",
    "        prob_positive = prob_positive * cond_prob( row[i] , summary[\"train_mean_pos\"][i], summary[\"train_std_pos\"][i]  )\n",
    "    \n",
    "    prob_negative = len( summary[\"train_mean_neg\"] ) / ( len( summary[\"train_mean_pos\"] )+ len( summary[\"train_mean_neg\"]) )\n",
    "    for i in range( 0,len(row) ):\n",
    "        prob_negative = prob_negative * cond_prob( row[i] , summary[\"train_mean_neg\"][i], summary[\"train_std_neg\"][i]  )\n",
    "    return [prob_positive,prob_negative]"
   ]
  },
  {
   "cell_type": "code",
   "execution_count": 46,
   "metadata": {},
   "outputs": [],
   "source": [
    "predictions_raw = []\n",
    "for row in test_x.values.tolist():\n",
    "  predictions_raw.append(predict(row, summary))"
   ]
  },
  {
   "cell_type": "code",
   "execution_count": 47,
   "metadata": {},
   "outputs": [],
   "source": [
    "predictions = []\n",
    "for row in predictions_raw:\n",
    "    if( row[0] > row[1] ):\n",
    "        predictions.append(1)\n",
    "    else:\n",
    "        predictions.append(0)"
   ]
  },
  {
   "cell_type": "code",
   "execution_count": 48,
   "metadata": {},
   "outputs": [
    {
     "data": {
      "text/plain": [
       "array([[151,   3],\n",
       "       [ 76,   1]])"
      ]
     },
     "execution_count": 48,
     "metadata": {},
     "output_type": "execute_result"
    }
   ],
   "source": [
    "confusion_matrix( test_y.tolist(),predictions )"
   ]
  },
  {
   "cell_type": "code",
   "execution_count": null,
   "metadata": {},
   "outputs": [],
   "source": []
  }
 ],
 "metadata": {
  "kernelspec": {
   "display_name": "Python 3",
   "language": "python",
   "name": "python3"
  },
  "language_info": {
   "codemirror_mode": {
    "name": "ipython",
    "version": 3
   },
   "file_extension": ".py",
   "mimetype": "text/x-python",
   "name": "python",
   "nbconvert_exporter": "python",
   "pygments_lexer": "ipython3",
   "version": "3.6.4"
  }
 },
 "nbformat": 4,
 "nbformat_minor": 2
}
